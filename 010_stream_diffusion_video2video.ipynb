{
  "nbformat": 4,
  "nbformat_minor": 0,
  "metadata": {
    "colab": {
      "provenance": [],
      "machine_shape": "hm",
      "gpuType": "T4",
      "authorship_tag": "ABX9TyMF/j5ZvVj2CgTvhn8itiNf",
      "include_colab_link": true
    },
    "kernelspec": {
      "name": "python3",
      "display_name": "Python 3"
    },
    "language_info": {
      "name": "python"
    },
    "accelerator": "GPU"
  },
  "cells": [
    {
      "cell_type": "markdown",
      "metadata": {
        "id": "view-in-github",
        "colab_type": "text"
      },
      "source": [
        "<a href=\"https://colab.research.google.com/github/karaage0703/stable-diffusion-colab-tools/blob/main/010_stream_diffusion_video2video.ipynb\" target=\"_parent\"><img src=\"https://colab.research.google.com/assets/colab-badge.svg\" alt=\"Open In Colab\"/></a>"
      ]
    },
    {
      "cell_type": "markdown",
      "source": [
        "# Stream Diffusion Video2Video\n",
        "動画は正方形にする。iPhoneだと「VITA」というアプリが手軽\n"
      ],
      "metadata": {
        "id": "lB0KO4P4vhdQ"
      }
    },
    {
      "cell_type": "code",
      "execution_count": null,
      "metadata": {
        "id": "0qn6I5U2vCdU"
      },
      "outputs": [],
      "source": [
        "# PyTorchとxformersのインストール\n",
        "!pip install torch==2.1.0 torchvision==0.16.0 xformers --index-url https://download.pytorch.org/whl/cu121\n",
        "\n",
        "# パッケージのインストール\n",
        "!git clone https://github.com/cumulo-autumn/StreamDiffusion.git\n",
        "%cd StreamDiffusion\n",
        "!python setup.py develop easy_install streamdiffusion[tensorrt]\n",
        "!python -m streamdiffusion.tools.install-tensorrt"
      ]
    },
    {
      "cell_type": "code",
      "source": [
        "!pip install -r examples/vid2vid/requirements.txt"
      ],
      "metadata": {
        "id": "_XZJ-KwmwbLu"
      },
      "execution_count": null,
      "outputs": []
    },
    {
      "cell_type": "markdown",
      "source": [
        "ランタイム → セッションを再起動をする"
      ],
      "metadata": {
        "id": "y4f8ZF4W5blA"
      }
    },
    {
      "cell_type": "code",
      "source": [
        "%cd StreamDiffusion/examples"
      ],
      "metadata": {
        "id": "VQMAeNqsvmtA"
      },
      "execution_count": null,
      "outputs": []
    },
    {
      "cell_type": "code",
      "source": [
        "%cd examples"
      ],
      "metadata": {
        "id": "JmtjynF40Qg3"
      },
      "execution_count": null,
      "outputs": []
    },
    {
      "cell_type": "code",
      "source": [
        "!python vid2vid/main.py --input xxx.mp4 --output output.mp4"
      ],
      "metadata": {
        "id": "Q4ttyvTnycwi"
      },
      "execution_count": null,
      "outputs": []
    },
    {
      "cell_type": "markdown",
      "source": [
        "# 参考\n",
        "https://note.com/npaka/n/n4cb9a2d9fd72\n",
        "\n",
        "https://github.com/cumulo-autumn/StreamDiffusion/issues/31\n",
        "\n",
        "https://github.com/cumulo-autumn/StreamDiffusion/pull/79\n"
      ],
      "metadata": {
        "id": "R38zBpNu_0Ml"
      }
    }
  ]
}