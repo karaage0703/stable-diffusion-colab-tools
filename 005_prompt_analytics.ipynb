{
  "nbformat": 4,
  "nbformat_minor": 0,
  "metadata": {
    "colab": {
      "provenance": [],
      "collapsed_sections": [],
      "authorship_tag": "ABX9TyNVo6BeMl2eAAuCrluKai+v",
      "include_colab_link": true
    },
    "kernelspec": {
      "name": "python3",
      "display_name": "Python 3"
    },
    "language_info": {
      "name": "python"
    }
  },
  "cells": [
    {
      "cell_type": "markdown",
      "metadata": {
        "id": "view-in-github",
        "colab_type": "text"
      },
      "source": [
        "<a href=\"https://colab.research.google.com/github/karaage0703/stable-diffusion-colab-tools/blob/main/005_prompt_analytics.ipynb\" target=\"_parent\"><img src=\"https://colab.research.google.com/assets/colab-badge.svg\" alt=\"Open In Colab\"/></a>"
      ]
    },
    {
      "cell_type": "markdown",
      "source": [
        "# Prompt Analytics\n",
        "\n",
        "\n",
        "Reference:\n",
        "- https://github.com/takapy0210/nlplot\n",
        "- https://speakerdeck.com/takapy/zi-ran-yan-yu-ke-shi-hua-raiburari-nlplot-nogoshao-jie"
      ],
      "metadata": {
        "id": "7Z3rrtbgHwhl"
      }
    },
    {
      "cell_type": "markdown",
      "source": [
        "# Setup\n",
        "Install nlplot"
      ],
      "metadata": {
        "id": "NaCM8XVJC2UC"
      }
    },
    {
      "cell_type": "code",
      "source": [
        "!pip install -qq nlplot"
      ],
      "metadata": {
        "id": "4aY6lXQuC4if"
      },
      "execution_count": null,
      "outputs": []
    },
    {
      "cell_type": "markdown",
      "source": [
        "Import library"
      ],
      "metadata": {
        "id": "Rxge54yAH8uK"
      }
    },
    {
      "cell_type": "code",
      "execution_count": null,
      "metadata": {
        "id": "Chg10VgrCzOo"
      },
      "outputs": [],
      "source": [
        "import nlplot\n",
        "import pandas as pd\n",
        "import plotly\n",
        "from plotly.subplots import make_subplots\n",
        "from plotly.offline import iplot\n",
        "import matplotlib.pyplot as plt"
      ]
    },
    {
      "cell_type": "markdown",
      "source": [
        "Download csv file"
      ],
      "metadata": {
        "id": "vsnN7o4RQ0ml"
      }
    },
    {
      "cell_type": "code",
      "source": [
        "!wget https://raw.githubusercontent.com/karaage0703/stable-diffusion-colab-tools/main/data/prompt_list.csv"
      ],
      "metadata": {
        "id": "mQczwdRTRGrn"
      },
      "execution_count": null,
      "outputs": []
    },
    {
      "cell_type": "markdown",
      "source": [
        "Attention: If you want to use your original csv.\n",
        "\n",
        "Execute following command and upload your own csv file."
      ],
      "metadata": {
        "id": "pOHqYUmpH_tH"
      }
    },
    {
      "cell_type": "code",
      "source": [
        "# from google.colab import files\n",
        "# uploaded = files.upload()"
      ],
      "metadata": {
        "id": "wXTf0npmC4pQ"
      },
      "execution_count": null,
      "outputs": []
    },
    {
      "cell_type": "markdown",
      "source": [
        "Read csv fil"
      ],
      "metadata": {
        "id": "z8lwJMCvaPVU"
      }
    },
    {
      "cell_type": "code",
      "source": [
        "df = pd.read_csv('prompt_list.csv')\n",
        "df.head()"
      ],
      "metadata": {
        "id": "wagM9t82HoA4"
      },
      "execution_count": null,
      "outputs": []
    },
    {
      "cell_type": "markdown",
      "source": [
        "## Analytics"
      ],
      "metadata": {
        "id": "bpAig12OIP9c"
      }
    },
    {
      "cell_type": "markdown",
      "source": [
        "### Analytics setup"
      ],
      "metadata": {
        "id": "q0poRqyITpRb"
      }
    },
    {
      "cell_type": "code",
      "source": [
        "# target_col as a list type or a string separated by a space.\n",
        "npt = nlplot.NLPlot(df, target_col='prompt_list')"
      ],
      "metadata": {
        "id": "ZcHLPJ02DH6X"
      },
      "execution_count": null,
      "outputs": []
    },
    {
      "cell_type": "code",
      "source": [
        "# Stopword calculations can be performed.\n",
        "stopwords = npt.get_stopword(top_n=8, min_freq=0)\n",
        "stopwords"
      ],
      "metadata": {
        "id": "R8z4KQhxJNQw"
      },
      "execution_count": null,
      "outputs": []
    },
    {
      "cell_type": "markdown",
      "source": [
        "### N-gram bar chart"
      ],
      "metadata": {
        "id": "4zZItcn3TtS7"
      }
    },
    {
      "cell_type": "markdown",
      "source": [
        "uni-gram"
      ],
      "metadata": {
        "id": "adlGUpJuGDRy"
      }
    },
    {
      "cell_type": "code",
      "source": [
        "fig_unigram = npt.bar_ngram(\n",
        "    title='uni-gram',\n",
        "    xaxis_label='word_count',\n",
        "    yaxis_label='word',\n",
        "    ngram=1,\n",
        "    top_n=20,\n",
        "    width=800,\n",
        "    height=1100,\n",
        "    color=None,\n",
        "    horizon=True,\n",
        "    stopwords=stopwords,\n",
        "    verbose=False,\n",
        "    save=False,\n",
        ")\n",
        "fig_unigram.show()"
      ],
      "metadata": {
        "id": "aiupG_z2Ed2v"
      },
      "execution_count": null,
      "outputs": []
    },
    {
      "cell_type": "markdown",
      "source": [
        "bigram"
      ],
      "metadata": {
        "id": "ImhG87C1TxTM"
      }
    },
    {
      "cell_type": "code",
      "source": [
        "fig_bigram = npt.bar_ngram(\n",
        "    title='bi-gram',\n",
        "    xaxis_label='word_count',\n",
        "    yaxis_label='word',\n",
        "    ngram=2,\n",
        "    top_n=20,\n",
        "    width=800,\n",
        "    height=1100,\n",
        "    color=None,\n",
        "    horizon=True,\n",
        "    stopwords=stopwords,\n",
        "    verbose=False,\n",
        "    save=False,\n",
        ")\n",
        "fig_bigram.show()"
      ],
      "metadata": {
        "id": "U3vKvgUnF0yz"
      },
      "execution_count": null,
      "outputs": []
    },
    {
      "cell_type": "markdown",
      "source": [
        "### N-gram tree Map"
      ],
      "metadata": {
        "id": "z99Uq2c_GQOY"
      }
    },
    {
      "cell_type": "code",
      "source": [
        "fig_treemap = npt.treemap(\n",
        "    title='Tree map',\n",
        "    ngram=1,\n",
        "    top_n=50,\n",
        "    width=1300,\n",
        "    height=600,\n",
        "    stopwords=stopwords,\n",
        "    verbose=False,\n",
        "    save=False\n",
        ")\n",
        "fig_treemap.show()"
      ],
      "metadata": {
        "id": "-_n10fIcGPk6"
      },
      "execution_count": null,
      "outputs": []
    },
    {
      "cell_type": "markdown",
      "source": [
        "### Histogram of the word count"
      ],
      "metadata": {
        "id": "PasW1hztGOai"
      }
    },
    {
      "cell_type": "code",
      "source": [
        "fig_histgram = npt.word_distribution(\n",
        "    title='word distribution',\n",
        "    xaxis_label='count',\n",
        "    yaxis_label='',\n",
        "    width=1000,\n",
        "    height=500,\n",
        "    color=None,\n",
        "    template='plotly',\n",
        "    bins=None,\n",
        "    save=False,\n",
        ")\n",
        "fig_histgram.show()"
      ],
      "metadata": {
        "id": "hDMsPdQuGe_L"
      },
      "execution_count": null,
      "outputs": []
    },
    {
      "cell_type": "markdown",
      "source": [
        "### wordcloud"
      ],
      "metadata": {
        "id": "Zm7YhlBiT6EC"
      }
    },
    {
      "cell_type": "code",
      "source": [
        "fig_wc = npt.wordcloud(\n",
        "    width=1000,\n",
        "    height=600,\n",
        "    max_words=100,\n",
        "    max_font_size=100,\n",
        "    colormap='tab20_r',\n",
        "    stopwords=stopwords,\n",
        "    mask_file=None,\n",
        "    save=False\n",
        ")\n",
        "plt.figure(figsize=(15, 25))\n",
        "plt.imshow(fig_wc, interpolation=\"bilinear\")\n",
        "plt.axis(\"off\")\n",
        "plt.show()"
      ],
      "metadata": {
        "id": "J9DP4KTEGfS7"
      },
      "execution_count": null,
      "outputs": []
    },
    {
      "cell_type": "markdown",
      "source": [
        "### co-occurrence networks"
      ],
      "metadata": {
        "id": "JLNiTxa1T-Tc"
      }
    },
    {
      "cell_type": "code",
      "source": [
        "npt.build_graph(stopwords=stopwords, min_edge_frequency=1)\n",
        "# The number of nodes and edges to which this output is plotted.\n",
        "# If this number is too large, plotting will take a long time, so adjust the [min_edge_frequency] well.\n",
        "# >> node_size:70, edge_size:166\n",
        "fig_co_network = npt.co_network(\n",
        "    title='Co-occurrence network',\n",
        "    sizing=100,\n",
        "    node_size='adjacency_frequency',\n",
        "    color_palette='hls',\n",
        "    width=1100,\n",
        "    height=700,\n",
        "    save=False\n",
        ")\n",
        "iplot(fig_co_network)"
      ],
      "metadata": {
        "id": "POcFOfCBGrQw"
      },
      "execution_count": null,
      "outputs": []
    },
    {
      "cell_type": "markdown",
      "source": [
        "### sunburst chart"
      ],
      "metadata": {
        "id": "f5EfsVE_UCZ8"
      }
    },
    {
      "cell_type": "code",
      "source": [
        "fig_sunburst = npt.sunburst(\n",
        "    title='sunburst chart',\n",
        "    colorscale=True,\n",
        "    color_continuous_scale='Oryel',\n",
        "    width=1000,\n",
        "    height=800,\n",
        "    save=False\n",
        ")\n",
        "fig_sunburst.show()"
      ],
      "metadata": {
        "id": "wZoAHhgTHDeS"
      },
      "execution_count": null,
      "outputs": []
    },
    {
      "cell_type": "code",
      "source": [
        "# other\n",
        "# The original data frame of the co-occurrence network can also be accessed\n",
        "display(\n",
        "    npt.node_df.head(), npt.node_df.shape,\n",
        "    npt.edge_df.head(), npt.edge_df.shape\n",
        ")"
      ],
      "metadata": {
        "id": "SIL03QqVGjsg"
      },
      "execution_count": null,
      "outputs": []
    }
  ]
}